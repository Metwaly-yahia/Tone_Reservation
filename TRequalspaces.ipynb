{
  "nbformat": 4,
  "nbformat_minor": 0,
  "metadata": {
    "colab": {
      "name": "TRequalspaces.ipynb",
      "provenance": [],
      "collapsed_sections": []
    },
    "kernelspec": {
      "name": "python3",
      "display_name": "Python 3"
    },
    "language_info": {
      "name": "python"
    }
  },
  "cells": [
    {
      "cell_type": "code",
      "execution_count": null,
      "metadata": {
        "colab": {
          "base_uri": "https://localhost:8080/"
        },
        "id": "CYTvmHraicEl",
        "outputId": "6c0ac86a-9278-486d-9c1c-dd6682cf1944"
      },
      "outputs": [
        {
          "output_type": "stream",
          "name": "stdout",
          "text": [
            "Requirement already satisfied: scikit-commpy in /usr/local/lib/python3.7/dist-packages (0.7.0)\n",
            "Requirement already satisfied: numpy in /usr/local/lib/python3.7/dist-packages (from scikit-commpy) (1.21.5)\n",
            "Requirement already satisfied: matplotlib in /usr/local/lib/python3.7/dist-packages (from scikit-commpy) (3.2.2)\n",
            "Requirement already satisfied: scipy in /usr/local/lib/python3.7/dist-packages (from scikit-commpy) (1.4.1)\n",
            "Requirement already satisfied: sympy in /usr/local/lib/python3.7/dist-packages (from scikit-commpy) (1.7.1)\n",
            "Requirement already satisfied: pyparsing!=2.0.4,!=2.1.2,!=2.1.6,>=2.0.1 in /usr/local/lib/python3.7/dist-packages (from matplotlib->scikit-commpy) (3.0.7)\n",
            "Requirement already satisfied: kiwisolver>=1.0.1 in /usr/local/lib/python3.7/dist-packages (from matplotlib->scikit-commpy) (1.4.0)\n",
            "Requirement already satisfied: cycler>=0.10 in /usr/local/lib/python3.7/dist-packages (from matplotlib->scikit-commpy) (0.11.0)\n",
            "Requirement already satisfied: python-dateutil>=2.1 in /usr/local/lib/python3.7/dist-packages (from matplotlib->scikit-commpy) (2.8.2)\n",
            "Requirement already satisfied: typing-extensions in /usr/local/lib/python3.7/dist-packages (from kiwisolver>=1.0.1->matplotlib->scikit-commpy) (3.10.0.2)\n",
            "Requirement already satisfied: six>=1.5 in /usr/local/lib/python3.7/dist-packages (from python-dateutil>=2.1->matplotlib->scikit-commpy) (1.15.0)\n",
            "Requirement already satisfied: mpmath>=0.19 in /usr/local/lib/python3.7/dist-packages (from sympy->scikit-commpy) (1.2.1)\n"
          ]
        }
      ],
      "source": [
        "! pip install scikit-commpy"
      ]
    },
    {
      "cell_type": "code",
      "source": [
        "import numpy as np\n",
        "import commpy.channelcoding.convcode as cc\n",
        "import commpy.modulation as modulation\n",
        "import numpy as np\n",
        "from scipy.linalg import hadamard\n",
        "from scipy.stats import ortho_group\n",
        "import numpy as np\n",
        "import commpy.channelcoding.convcode as cc\n",
        "import commpy.modulation as modulation\n",
        "import numpy as np\n",
        "import numpy as np\n",
        "import commpy.channelcoding.convcode as cc\n",
        "import commpy.modulation as modulation\n",
        "import numpy as np\n",
        "import cmath"
      ],
      "metadata": {
        "id": "OaPQDCuti4oG"
      },
      "execution_count": null,
      "outputs": []
    },
    {
      "cell_type": "code",
      "source": [
        "def Hermitian(matrix):\n",
        "    [raws,columns]=matrix.shape\n",
        "    conjec= np.zeros((raws,columns), dtype=complex)\n",
        "    i=0\n",
        "    while i<columns:\n",
        "          conjec[:,i]=np.conj(matrix[:,i])\n",
        "          i+=1\n",
        "    reversed_conjec=conjec[-1::-1]\n",
        "    z = np.zeros((1,L)) \n",
        "    modulated_uncodeda=np.vstack(z)\n",
        "    modulated_uncodeda=np.vstack((modulated_uncodeda,matrix))\n",
        "    modulated_uncodedb=np.vstack((modulated_uncodeda,z))\n",
        "    Hermitian_Data=np.vstack((modulated_uncodedb,reversed_conjec))\n",
        "    return Hermitian_Data\n",
        "\n",
        "def PAPRformatrix(matrix):\n",
        "    [raws,columns]=matrix.shape\n",
        "    PAPR = np.zeros(columns)\n",
        "    PAPRdB = np.zeros(columns)\n",
        "    s=0\n",
        "    while s<columns:\n",
        "            max=np.max(matrix[:,s]*np.conj(matrix[:,s]))\n",
        "            mean=np.sum(matrix[:,s]*np.transpose(np.conj(matrix[:,s])))/len(matrix[:,s])\n",
        "            PAPR[s]=max/mean\n",
        "            PAPRdB[s]=10*np.log10(PAPR[s])\n",
        "            s+=1\n",
        "    return [PAPR,PAPRdB]\n",
        "\n",
        "def PAPRforcolumn(matrix):\n",
        "    raws=matrix.shape\n",
        "    PAPR = np.zeros(1)\n",
        "    PAPRdB = np.zeros(1)\n",
        "    max=np.max(matrix*np.conj(matrix))\n",
        "    mean=np.sum(matrix*(np.conj(matrix)))/len(matrix)\n",
        "    PAPR=max/mean\n",
        "    PAPRdB=10*np.log10(PAPR) \n",
        "    return [PAPR,PAPRdB]\n",
        "\n",
        "def IFFTformatrix(matrix):\n",
        "    [raws,columns]=matrix.shape\n",
        "    Data_ifft = np.zeros((raws,columns), dtype=complex)\n",
        "    p=0\n",
        "    while p<columns:\n",
        "          Data_ifft[:,p]= np.fft.ifft(matrix[:,p])\n",
        "          p+=1\n",
        "    return Data_ifft\n",
        "\n",
        "def matrixP2S(matrix):\n",
        "    [raws,columns]=matrix.shape\n",
        "    i = 0\n",
        "    s = 0\n",
        "    t = 0\n",
        "    serial_data = np.zeros((raws*columns), dtype=complex)\n",
        "    while i < columns:\n",
        "          k=0\n",
        "          while k < raws: \n",
        "                g=(matrix[k,i])\n",
        "                serial_data[t]=g\n",
        "                t+=1\n",
        "                k+=1\n",
        "          i+=1    \n",
        "    return serial_data\n",
        "\n",
        "def columnP2S(matrix):\n",
        "    i = 0\n",
        "    serial_data = np.zeros((len(matrix)), dtype=complex)\n",
        "    for i in range(len(matrix)):\n",
        "        serial_data[i]=matrix[i]\n",
        "    return serial_data\n",
        "\n",
        "def columnS2P(matrix):\n",
        "    i = 0\n",
        "    parallel_data = np.zeros((len(matrix),1), dtype=complex)\n",
        "    for i in range(len(matrix)):\n",
        "        parallel_data[i,0]=matrix[i]\n",
        "    return parallel_data\n",
        "\n",
        "\n",
        "def CP(matrix,length_of_CP):\n",
        "    [raws,columns]=matrix.shape\n",
        "    CP = matrix[raws-length_of_CP:raws,:]\n",
        "    Data_CP = np.vstack((CP, matrix))\n",
        "    return Data_CP\n",
        "\n",
        "def CPpercolumn(matrix,length_of_CP):\n",
        "    raws=matrix.shape\n",
        "    CP = matrix[raws-length_of_CP:raws]\n",
        "    Data_CP = np.vstack((CP, matrix))\n",
        "    return Data_CP\n",
        "\n",
        "def matrixneededshape(matrix,raws,columns):\n",
        "    mat= np.zeros((raws,columns), dtype=complex)\n",
        "    i=0\n",
        "    t=0\n",
        "    while i<columns:\n",
        "          k=0\n",
        "          while k<raws:\n",
        "                g=matrix[t]\n",
        "                mat[k,i]=g\n",
        "                t+=1            \n",
        "                k+=1\n",
        "          i+=1\n",
        "    return mat\n",
        "\n",
        "def complex_ortho_matrix(raws,columns):\n",
        "    h=np.array([1, -1, 1j, -1j])\n",
        "    Ortho=np.zeros((raws,columns), dtype=complex)   #initialization\n",
        "    l=0\n",
        "    while l<N:\n",
        "          Ortho[l]=np.random.choice(h,columns)\n",
        "          l+=1\n",
        "    return Ortho \n",
        "\n",
        "def decimalToBinary(n): \n",
        "    return bin(n).replace(\"0b\",\"\") "
      ],
      "metadata": {
        "id": "aXjHxK_7ifza"
      },
      "execution_count": null,
      "outputs": []
    },
    {
      "cell_type": "code",
      "source": [
        "           ###Start Tone Reservation###\n",
        "\n",
        "#the selection of the tone location\n",
        "NN=1024   #total number of subcarriers (TR+Data)\n",
        "TR=32   #assum\n",
        "N= NN - TR   #data subcarriers\n",
        "L= 50000 #number of time slots\n",
        "M = 4   #modulation order (QPSK)\n",
        "K = int(np.log2(M))   #number of bit per modulation symbol\n",
        "Target_PAPRdB= 6\n",
        "kernel0=np.zeros((NN,1), dtype=int)   #initialization\n",
        "separation_between_ones=int(NN/TR)   #separation_between_ones\n",
        "positions_of_ones = np.zeros(TR)   #initialization\n",
        "decimal_numbers_of_constellation = np.zeros(M)   #initialization\n",
        "binary_numbers_of_constellation = np.zeros((M,K), dtype=complex)   #initialization\n",
        "Data2=np.zeros((NN,L), dtype=complex)   #initialization\n",
        "final_PAPRdB = np.zeros(L)   #initialization\n",
        "Data4 = np.zeros((N), dtype=complex)   #initialization\n",
        "modulated_uncoded2=np.zeros((N,L), dtype=complex)   #initialization\n",
        "modulated_uncoded3=np.zeros((NN,L), dtype=complex)   #initialization\n",
        "Data_original=np.zeros((NN-TR,L), dtype=complex)\n",
        "\n",
        "#zero ones vector and ifft\n",
        "i=separation_between_ones  \n",
        "j=0 \n",
        "while i<NN:\n",
        "      kernel0[i,0]=1\n",
        "      positions_of_ones[j]=i\n",
        "      j+=1\n",
        "      i=i+separation_between_ones\n",
        "#print(\"kernel=\",kernel0)\n",
        "#print(positions_of_ones)\n",
        "\n",
        "Peak_Reduction_Kernel=columnP2S((np.sqrt(NN)/TR)*IFFTformatrix(kernel0))\n",
        "#print(\"Peak_Reduction_Kernel\",Peak_Reduction_Kernel)\n",
        "\n",
        "Data1 = np.random.randint(2,size=(K*N*L))\n",
        "#print(Data1)\n",
        "#print(Data1.shape)\n",
        "\n",
        "#modulation from commpy library\n",
        "modem = modulation.PSKModem(M)   # M-PSK modem initialization\n",
        "modulated_uncoded1 = modem.modulate(Data1)\n",
        "#print(modulated_uncoded1)\n",
        "modulated_uncoded2=matrixneededshape(modulated_uncoded1,N,L)\n",
        "#print(np.random.choice(modulated_uncoded2[:,0]))\n",
        "#print(modulated_uncoded2)\n",
        "\n",
        "#consist of total modulated data with tones\n",
        "for i in range(L):\n",
        "  y=0\n",
        "  for j in range(NN):\n",
        "    if j in positions_of_ones:\n",
        "      #Data2[j,i]=np.random.choice(Data1)\n",
        "      #Data2[j,i]=0\n",
        "      Data2[j,i]=np.random.choice(modulated_uncoded2[:,i])\n",
        "    else:\n",
        "      Data2[j,i]=modulated_uncoded2[y,i]\n",
        "      y+=1\n",
        "#print(\"Data2\",Data2)\n"
      ],
      "metadata": {
        "id": "X51bM8ovimXZ"
      },
      "execution_count": null,
      "outputs": []
    },
    {
      "cell_type": "code",
      "source": [
        "   ###Gradient Algorithm###\n",
        "iteration = 20\n",
        "#PPP=np.zeros((iteration,L), dtype=float)\n",
        "j=0   #for every time slot\n",
        "while j<L:\n",
        "      value=0\n",
        "      k=0\n",
        "      Data3=np.fft.ifft(Data2[:,j])\n",
        "      Data4=columnP2S(Data3)\n",
        "      #print(\"Data3\",Data3)\n",
        "      while k<iteration:\n",
        "            #peak detection to find value and phase of max peak at data (x+c) in time domain every iteration\n",
        "            position=np.argmax(np.abs(Data4))\n",
        "            max_peak=Data4[position]    \n",
        "            p = cmath.phase(max_peak)   #phase of peak in radian\n",
        "\n",
        "            #scaling and phase rotation\n",
        "            scaling = max_peak/np.abs(max_peak)\n",
        "            dif=np.abs(max_peak)-(np.sqrt(1.2*(np.sum(Data4*np.conj(Data4))/len(Data4))))\n",
        "            alpha=scaling*dif\n",
        "            #alpha=np.abs(max_peak)\n",
        "            #alpha=1\n",
        "            #print(alpha)\n",
        "\n",
        "            #gradient algorithm formula\n",
        "            value = (alpha*np.roll(Peak_Reduction_Kernel,position))  #Note:Peak_Reduction_Kernel  is circular shifted to the peak position\n",
        "\n",
        "            #Adder\n",
        "            Data4 = Data4 - value\n",
        "            \n",
        "            #PAPR calculation\n",
        "            Data5=columnS2P(Data4)   #we will calculate PAPR for this column(Data5) \n",
        "            [PAPR,PAPRdB]=PAPRformatrix(Data5)   #to calculate PAPR every iteration\n",
        "            #PPP[k,j]=PAPRdB\n",
        "\n",
        "            #controller\n",
        "            if PAPRdB<=Target_PAPRdB:\n",
        "               k=iteration   #to go out of iteration loop\n",
        "               final_PAPRdB[j]=PAPRdB \n",
        "            else: k+=1\n",
        "      final_PAPRdB[j]=PAPRdB\n",
        "      j+=1\n",
        "\n",
        "#print(PPP)\n",
        "#print(final_PAPRdB)\n",
        "#print(max_peak)\n"
      ],
      "metadata": {
        "id": "1SSnOU21dUYF",
        "colab": {
          "base_uri": "https://localhost:8080/"
        },
        "outputId": "5823e3d0-529b-4557-bdb2-28bfbe0234d3"
      },
      "execution_count": null,
      "outputs": [
        {
          "output_type": "stream",
          "name": "stderr",
          "text": [
            "/usr/local/lib/python3.7/dist-packages/ipykernel_launcher.py:24: ComplexWarning: Casting complex values to real discards the imaginary part\n"
          ]
        }
      ]
    },
    {
      "cell_type": "code",
      "source": [
        "import matplotlib.pyplot as plt\n",
        "count, bins_count = np.histogram(final_PAPRdB,bins=1000000,range=(0,15))\n",
        "cdf = np.cumsum(count)/L\n",
        "#plt.plot(bins_count[1:], cdf, label=\"CDF\")   #draw CDF\n",
        "plt.plot(bins_count[1:], (1-cdf), label='TR= '+str(TR))   #draw CCDF\n",
        "plt.legend()\n",
        "\n",
        "              #####PAPR for Data without TR reduction technique#####\n",
        "data_final2 = IFFTformatrix(Data2)   #IFFT\n",
        "[PAPR,PAPRdB]=PAPRformatrix(data_final2)   #PAPR\n",
        "#print(PAPRdB)\n",
        "\n",
        "#CCDF drawing\n",
        "import matplotlib.pyplot as plt\n",
        "count, bins_count = np.histogram(PAPRdB,bins=1000000,range=(0,15))\n",
        "cdf = np.cumsum(count)/L\n",
        "#plt.plot(bins_count[:], cdf, label=\"CDF\")\n",
        "plt.plot(bins_count[1:], (1-cdf), label=\"Orignal\")\n",
        "plt.legend()\n",
        "plt.yscale('log')\n",
        "plt.ylim(10**-4,10**0)\n",
        "plt.xlim(6,13)\n",
        "plt.xlabel('PAPR[dB]')\n",
        "plt.ylabel('CCDF')\n",
        "plt.title('TR PAPR simulation')"
      ],
      "metadata": {
        "id": "oWP20idAlPcf",
        "colab": {
          "base_uri": "https://localhost:8080/",
          "height": 330
        },
        "outputId": "044ccae2-fdbe-4122-a2c9-aa84d84fd6db"
      },
      "execution_count": null,
      "outputs": [
        {
          "output_type": "stream",
          "name": "stderr",
          "text": [
            "/usr/local/lib/python3.7/dist-packages/ipykernel_launcher.py:24: ComplexWarning: Casting complex values to real discards the imaginary part\n"
          ]
        },
        {
          "output_type": "execute_result",
          "data": {
            "text/plain": [
              "Text(0.5, 1.0, 'TR PAPR simulation')"
            ]
          },
          "metadata": {},
          "execution_count": 15
        },
        {
          "output_type": "display_data",
          "data": {
            "text/plain": [
              "<Figure size 432x288 with 1 Axes>"
            ],
            "image/png": "[encoded data removed]"
          },
          "metadata": {
            "needs_background": "light"
          }
        }
      ]
    }
  ]
}